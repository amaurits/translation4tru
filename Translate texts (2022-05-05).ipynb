{
 "cells": [
  {
   "cell_type": "markdown",
   "metadata": {},
   "source": [
    "# Translate texts (version: 2022-05-05)\n",
    "\n",
    "_by A. Maurits van der Veen_  \n",
    "\n",
    "_Modification history:_  \n",
    "_2022-05-05 - cleaned up from longer notebook, for general use_  \n",
    "\n",
    "This notebook provides code to translate a corpus of texts using supplied translation dictionaries.\n",
    "\n",
    "Note that this is word-level translation: the resulting texts will not read like good English; however, for additional text analysis steps such as sentiment analysis or topic modeling, good English is not required: just that the individual words that matter to the meaning of the text get translated correctly.\n",
    "\n",
    "The format of the dictionary is expected to be csv, with source words in the first column and target words in the second.\n"
   ]
  },
  {
   "cell_type": "markdown",
   "metadata": {},
   "source": [
    "### 0. Set-up"
   ]
  },
  {
   "cell_type": "code",
   "execution_count": null,
   "metadata": {},
   "outputs": [],
   "source": [
    "projectfolder = '/Users/maurits/STAIR/'  # Adapt as needed\n"
   ]
  },
  {
   "cell_type": "code",
   "execution_count": null,
   "metadata": {},
   "outputs": [],
   "source": [
    "import sys\n",
    "import os\n",
    "import csv\n",
    "\n",
    "sys.path.append(projectfolder + 'Code')  # The place to look for local code files\n",
    "import translation4tru  # Auxiliary code file for this notebook\n",
    "\n",
    "# Print summary version info (for fuller info, simply print sys.version)\n",
    "print('You are using python version {}.'.format(sys.version.split()[0]))"
   ]
  },
  {
   "cell_type": "markdown",
   "metadata": {},
   "source": [
    "### 1. Load translation dictionary\n"
   ]
  },
  {
   "cell_type": "code",
   "execution_count": null,
   "metadata": {},
   "outputs": [],
   "source": [
    "# Specify translation pair & direction\n",
    "\n",
    "sourcelang = 'de'  # change as applicable\n",
    "targetlang = 'en'  # ,,\n",
    "\n",
    "langpair = sourcelang + '-' + targetlang\n"
   ]
  },
  {
   "cell_type": "code",
   "execution_count": null,
   "metadata": {},
   "outputs": [],
   "source": [
    "# Load translation dictionary (adapt pathname as needed)\n",
    "translationfile = projectfolder + 'Translation/Dictionaries/' + langpair + '_transl.txt'\n",
    "translationdict = translation4tru.load_cleanpairs(translationfile, reverse=False, usecsv=True)\n",
    "\n",
    "# Show dictionary length\n",
    "print('The {} -> {} word translation dictionary contains {:,} entries.'.format(sourcelang, targetlang, len(translationdict)))"
   ]
  },
  {
   "cell_type": "markdown",
   "metadata": {},
   "source": [
    "### 2. Translate texts\n",
    "\n",
    "Unknown words will be flagged in the output by having an out-of-vocabulary marker pre-pended.  \n",
    "To have these words stand out, use something easily identifiable, such as `*oov*`; to have these words simply copied as is without any special marking (usually the preferred approach, as many are just proper names), use an empty string `''` as the marker."
   ]
  },
  {
   "cell_type": "code",
   "execution_count": null,
   "metadata": {},
   "outputs": [],
   "source": [
    "oov_marker = ''  # use '*oov*' to have words stand out in translation\n"
   ]
  },
  {
   "cell_type": "code",
   "execution_count": null,
   "metadata": {},
   "outputs": [],
   "source": [
    "sourcefolder = projectfolder + 'Corpora/mycorpus/'    \n",
    "corpusfilename = 'corpusname'\n",
    "\n",
    "# Specify filenames of source and for target corpus\n",
    "sourcesuffix = '.csv'\n",
    "translsuffix = '_2' + targetlang + '.csv'\n"
   ]
  },
  {
   "cell_type": "code",
   "execution_count": null,
   "metadata": {},
   "outputs": [],
   "source": [
    "sourcefile = sourcefolder + corpusfilename + sourcesuffix\n",
    "targetfile = sourcefolder + corpusfilename + translsuffix\n"
   ]
  },
  {
   "cell_type": "code",
   "execution_count": null,
   "metadata": {},
   "outputs": [],
   "source": [
    "nrtoshow = 10  # number of most common unknown words to show\n",
    "\n",
    "nrtranslated, unknownwords, unknownFD = \\\n",
    "    translation4tru.translate_corpus(sourcefile, targetfile, translationdict, \n",
    "                                 oov_marker=oov_marker, header=False, textcol=1, keeplines=True,\n",
    "                                 update_interval=20000, show_unknown=False, track_unknown=True)\n",
    "print('Translated {} texts in corpus {}; encountered {} distinct unknown words.'.format( \\\n",
    "      nrtranslated, corpusname, len(unknownwords)))\n",
    "if len(unknownwords) > 0:\n",
    "    print('{} most common unknown words:'.format(min(len(unknownwords), nrtoshow)))\n",
    "    unknownitems = sorted(unknownFD.items(), key=lambda x: x[1], reverse=True)\n",
    "    for unknownword, count in unknownitems[:nrtoshow]:\n",
    "        print('{:24}: {} occurrences'.format(unknownword, count))\n",
    "        "
   ]
  },
  {
   "cell_type": "markdown",
   "metadata": {},
   "source": [
    "### 3. Examine translation\n",
    "\n",
    "Check one or more entries to make sure the translation worked well. We can do this at random (by just picking some row numbers), or else we might check for particular keywords and look for the first N articles containing the keyword in question. The code here successively does both."
   ]
  },
  {
   "cell_type": "code",
   "execution_count": null,
   "metadata": {},
   "outputs": [],
   "source": [
    "rows2check = [0, 1000]  # List of row numbers for which to diplay both the original and the translation\n",
    "\n",
    "translation4tru.display_translation_byrow(sourcefile, targetfile, rows2check)\n"
   ]
  },
  {
   "cell_type": "code",
   "execution_count": null,
   "metadata": {},
   "outputs": [],
   "source": [
    "source_searchstring = 'Treppe'\n",
    "firstN = 3\n",
    "\n",
    "translation4tru.display_translation_bycontent(sourcefile, targetfile, source_searchstring, firstN)"
   ]
  },
  {
   "cell_type": "code",
   "execution_count": null,
   "metadata": {},
   "outputs": [],
   "source": []
  }
 ],
 "metadata": {
  "anaconda-cloud": {},
  "kernelspec": {
   "display_name": "Python 3 (ipykernel)",
   "language": "python",
   "name": "python3"
  },
  "language_info": {
   "codemirror_mode": {
    "name": "ipython",
    "version": 3
   },
   "file_extension": ".py",
   "mimetype": "text/x-python",
   "name": "python",
   "nbconvert_exporter": "python",
   "pygments_lexer": "ipython3",
   "version": "3.9.9"
  }
 },
 "nbformat": 4,
 "nbformat_minor": 2
}
